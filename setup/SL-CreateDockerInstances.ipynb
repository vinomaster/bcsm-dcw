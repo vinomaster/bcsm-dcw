{
 "metadata": {
  "name": "",
  "signature": "sha256:4711d3ee349246c73795bba31c8c11f5eb5a27d1853d432f47e57abcf1a56750"
 },
 "nbformat": 3,
 "nbformat_minor": 0,
 "worksheets": [
  {
   "cells": [
    {
     "cell_type": "markdown",
     "metadata": {},
     "source": [
      "# Boston Cloud Services DevOps\n",
      "\n",
      "## Create Environment\n",
      "This notebook serves as a devops utility for the creation of Docker VM instances on SoftLayer. \n",
      "\n",
      "## Install Devops Tools\n",
      "This notebook uses SoftLayer services to provision a Student VMs.\n",
      "\n",
      "### Setup Details\n",
      "\n",
      "We will use the SoftLayer (SL) Python Package and [instructions here](http://softlayer-python.readthedocs.org/en/latest/index.html). If you have not already installed the Python Libraries for Softlayer on your KA Workbench, do the following:\n",
      "```\n",
      "!pip install Softlayer --upgrade \n",
      "```\n",
      "\n",
      "#### Credentials\n",
      "Create a Json file and add it to your workbench. The should look like this:\n",
      "\n",
      "```\n",
      "* Your SoftLayer Credentials\n",
      "```\n",
      "{\n",
      "    \"username\":\"xxxxxxxxx\", \n",
      "    \"api_key\":\"xxxxxxxxxxxxx\"\n",
      "}\n",
      "```\n",
      "\n",
      "### Prepare Provider Connections\n",
      "The subsequent code cell will prepare connections using your credential files for each IaaS provider."
     ]
    },
    {
     "cell_type": "code",
     "collapsed": false,
     "input": [
      "import re\n",
      "import json\n",
      "from SoftLayer import Client, VSManager, SshKeyManager\n",
      "\n",
      "# Load SoftLayer Account Credentials\n",
      "with file('/resources/dag-sl-apiconfig.json') as f:\n",
      "    sl_key = json.load(f)\n",
      "\n",
      "# Establish Account Connection\n",
      "client = Client(username=sl_key['username'], api_key=sl_key['api_key'])\n",
      "\n",
      "# Create Manager Objects\n",
      "vsmapi = VSManager(client) # Virtual Server Manager replaces CCI Mgr\n",
      "sshapi = SshKeyManager(client)"
     ],
     "language": "python",
     "metadata": {},
     "outputs": []
    },
    {
     "cell_type": "markdown",
     "metadata": {},
     "source": [
      "#### Test SoftLayer Connectivity"
     ]
    },
    {
     "cell_type": "code",
     "collapsed": false,
     "input": [
      "client['Account'].getObject()"
     ],
     "language": "python",
     "metadata": {},
     "outputs": []
    },
    {
     "cell_type": "markdown",
     "metadata": {},
     "source": [
      "## Convenience Utilities"
     ]
    },
    {
     "cell_type": "code",
     "collapsed": false,
     "input": [
      "# Print readable Dictionaries\n",
      "import pprint\n",
      "prettyprinter = pprint.PrettyPrinter(indent=4)\n",
      "\n",
      "# Print readable Json\n",
      "def jazzyJson(jblob):\n",
      "    print json.dumps(jblob,sort_keys=True, indent=2, separators=(',', ': '))\n",
      "    "
     ],
     "language": "python",
     "metadata": {},
     "outputs": []
    },
    {
     "cell_type": "markdown",
     "metadata": {},
     "source": [
      "## Environment Data\n",
      "This notebook uses the content values in the subsequent code cell to carry out the necessary environmemnt creation tasks. Update these values accordingly."
     ]
    },
    {
     "cell_type": "code",
     "collapsed": false,
     "input": [
      "# Environmanet Prefix\n",
      "ENVIRONMENT_PREFIX = 'bcs'\n",
      "\n",
      "# A list of server names. This list allows for the creation of\n",
      "# one or more servers for a variety of purposes such as testing the \n",
      "# devops tools.\n",
      "STUDENTS = 1\n",
      "BASE_ID = 200\n",
      "SERVER_PREFIX = 'student'\n",
      "\n",
      "# A list of server labels. \n",
      "# This value is used to create a note for the\n",
      "# instantiated devices (VM instances).\n",
      "#       <adhoc prefix>; <label>\n",
      "LABEL_PREFIX = 'BCS Meetup'\n",
      "\n",
      "# Order Template Details\n",
      "# The following values are used to contruct an order.\n",
      "OTD_CPUS = '2' \n",
      "OTD_RAM = '4'\n",
      "OTD_HOURLY = 'False'\n",
      "OTD_HOSTNAME = 'TBD'         # Dynamically Modified\n",
      "OTD_DOMAIN = 'meetup.com' \n",
      "OTD_DATACENTER = 'wdc01'\n",
      "OTD_ODCODE = 'UBUNTU_14_64'\n",
      "OTD_PROVISIONING_SCRIPT = 'https://gist.githubusercontent.com/vinomaster/28da057b74c884e5e0e0/raw/f4d5bb5adebc6a7625a4bce189c5c0aa651a9a0c/Bootstrap_MI_Target_VM.sh'\n",
      "OTD_SSH_ACCESSID = 86626    # Add ID for Boston Cloud Services Meetup key.\n"
     ],
     "language": "python",
     "metadata": {},
     "outputs": []
    },
    {
     "cell_type": "markdown",
     "metadata": {},
     "source": [
      "## Utility Methods"
     ]
    },
    {
     "cell_type": "code",
     "collapsed": false,
     "input": [
      "# Generate a list of server identifiers based on desired \n",
      "# quantity of servers.\n",
      "# Returns: List of Server Prefix Identifiers\n",
      "def generateServerIdentifiers(baseline,quantity):\n",
      "    prefix_list = []\n",
      "    limit = baseline+quantity\n",
      "    for s in range(baseline,limit):\n",
      "        prefix_list.append(SERVER_PREFIX+str(s))\n",
      "    return prefix_list\n",
      "\n",
      "# Generate hostnames conforming to the convention:\n",
      "#       <hostname> = <env_prefix>.<studentId>  \n",
      "# Returns: List of Hostnames\n",
      "def generateHostnames(host_server_names):\n",
      "    hnames = []\n",
      "    for name in host_server_names:\n",
      "        hnames.append(ENVIRONMENT_PREFIX + '.' + name)\n",
      "    return hnames\n",
      "\n",
      "# Generate device labels.\n",
      "# Returns: List of Labels\n",
      "def generateEnvNotes(serverIds):\n",
      "    note_prefix = LABEL_PREFIX + '; '\n",
      "    labels = []\n",
      "    for student in serverIds:\n",
      "        labels.append(note_prefix + 'Workspace for ' + student)\n",
      "    return labels\n",
      "\n",
      "# Generate a SoftLayer order.\n",
      "# Returns: List of Orders\n",
      "def generateOrders(template,serverIds):\n",
      "    hostnames = generateHostnames(serverIds)\n",
      "    orders = []\n",
      "    for h in hostnames:\n",
      "        order = template.copy()\n",
      "        order['hostname'] = h\n",
      "        orders.append(order)\n",
      "    return orders\n",
      "\n",
      "# Generate a list of devices associated with the SoftLayer Account\n",
      "# that match the provides list of hostnames.\n",
      "# Returns: DataFrame of Devices\n",
      "def displayDeviceDetails(hostnames):\n",
      "    import pandas as pd\n",
      "    df_masterDeviceList = pd.DataFrame()\n",
      "    for name in hostnames:\n",
      "        devices = vsmapi.list_instances(hostname=name)\n",
      "        df_subDeviceList = pd.DataFrame(devices) \n",
      "        print(\"Processing hostname {0} which has {1} associated device(s).\".format(name, len(df_subDeviceList.index)))\n",
      "        df_filteredSubDeviceList = df_subDeviceList[['id','fullyQualifiedDomainName','primaryIpAddress']]\n",
      "        if df_masterDeviceList.empty:\n",
      "            df_masterDeviceList = pd.DataFrame(df_filteredSubDeviceList)\n",
      "        else:\n",
      "            df_masterDeviceList = df_masterDeviceList.append(df_filteredSubDeviceList, ignore_index=True)\n",
      "    df_masterDeviceList.rename(columns={'id':'Device ID'}, inplace=True)\n",
      "    df_masterDeviceList.rename(columns={'fullyQualifiedDomainName':'Device Name'}, inplace=True)\n",
      "    df_masterDeviceList.rename(columns={'primaryIpAddress':'Public IP'}, inplace=True)\n",
      "    return df_masterDeviceList\n",
      "\n",
      "# Updates the \"note\" property for each device in a list of devices\n",
      "# with a label from a list of corresponding labels.\n",
      "# Set confirm parameter to True to commit change, otherwise\n",
      "# the output is for debug purposes only.\n",
      "# Prereq: Requires a call to displayDeviceDetails() to obtain\n",
      "#         Dataframe of devices.\n",
      "def labelDevices(devices,labels,confirmed=False):    \n",
      "    for index, row in devices.iterrows():\n",
      "        id = int(row['Device ID'])\n",
      "        note = labels[index]\n",
      "        if confirmed:\n",
      "            vsmapi.edit(id, notes=note)\n",
      "            print(\">>  Modified device {0} with label --> {1}.\").format(id, note)           \n",
      "        else:\n",
      "            print(\"Device {0} prepared for label [{1}].\").format(id, note)\n",
      "            \n",
      "# Cancel a list of devices.\n",
      "# Set confirm parameter to True to commit change, otherwise\n",
      "# the output is for debug purposes only.\n",
      "# Prereq: Requires a call to displayDeviceDetails() to obtain\n",
      "#         Dataframe of devices.\n",
      "def cancelDevices(devices,confirmed=False):\n",
      "    for index, row in devices.iterrows():\n",
      "        id = int(row['Device ID'])\n",
      "        if confirmed:\n",
      "            vsmapi.cancel_instance(id)\n",
      "            print(\"Cancelled device {0}.\").format(id)\n",
      "        else:\n",
      "            print(\"Device {0} prepared for termination.\").format(id)\n",
      "        "
     ],
     "language": "python",
     "metadata": {},
     "outputs": []
    },
    {
     "cell_type": "markdown",
     "metadata": {},
     "source": [
      "## Create Order\n",
      "\n",
      "### Build Order Template\n",
      "Establish an order based on globally set properties.\n",
      "\n",
      "*Note*: Testing has demonstrated that we cannot set the \"notes\" attribute upon creation. It must be set post order fulfillment."
     ]
    },
    {
     "cell_type": "code",
     "collapsed": false,
     "input": [
      "# Create Baseline Order Template\n",
      "orderTemplate = {}\n",
      "orderTemplate.update({'cpus': OTD_CPUS})\n",
      "orderTemplate.update({'memory': OTD_RAM})\n",
      "orderTemplate.update({'hourly': OTD_HOURLY})\n",
      "orderTemplate.update({'hostname': OTD_HOSTNAME})\n",
      "orderTemplate.update({'domain': OTD_DOMAIN})\n",
      "orderTemplate.update({'datacenter': OTD_DATACENTER})\n",
      "orderTemplate.update({'os_code': OTD_ODCODE})\n",
      "orderTemplate.update({'post_uri': OTD_PROVISIONING_SCRIPT})\n",
      "etechKey = sshapi.get_key(OTD_SSH_ACCESSID).get('id')\n",
      "ssh_keys = []\n",
      "ssh_keys.append(etechKey)\n",
      "orderTemplate.update({'ssh_keys': ssh_keys})\n",
      "\n",
      "prettyprinter.pprint(orderTemplate.items())"
     ],
     "language": "python",
     "metadata": {},
     "outputs": []
    },
    {
     "cell_type": "markdown",
     "metadata": {},
     "source": [
      "### Build Student List"
     ]
    },
    {
     "cell_type": "code",
     "collapsed": false,
     "input": [
      "studentList = generateServerIdentifiers(BASE_ID,STUDENTS)\n",
      "print studentList"
     ],
     "language": "python",
     "metadata": {},
     "outputs": []
    },
    {
     "cell_type": "markdown",
     "metadata": {},
     "source": [
      "### Submit Order\n",
      "Build and submit order. Review submission details."
     ]
    },
    {
     "cell_type": "code",
     "collapsed": false,
     "input": [
      "shoppingCart = generateOrders(orderTemplate,studentList)\n",
      "invoice = vsmapi.create_instances(shoppingCart)\n",
      "jazzyJson(invoice)"
     ],
     "language": "python",
     "metadata": {},
     "outputs": []
    },
    {
     "cell_type": "markdown",
     "metadata": {},
     "source": [
      "### Display Processed Order\n",
      "After a few minutes, query the SoftLayer environment for details on\n",
      "the processed order."
     ]
    },
    {
     "cell_type": "code",
     "collapsed": false,
     "input": [
      "hostnameList = generateHostnames(studentList)\n",
      "\n",
      "deviceDetails = displayDeviceDetails(hostnameList)\n",
      "deviceDetails"
     ],
     "language": "python",
     "metadata": {},
     "outputs": []
    },
    {
     "cell_type": "markdown",
     "metadata": {},
     "source": [
      "### Label the new Devices\n",
      "The subsequent code cell will **not** actually carry-out the requested task until you modifiy the **COMMIT** flag. This allows you to run a pretest to see which devices and labels will be used."
     ]
    },
    {
     "cell_type": "code",
     "collapsed": false,
     "input": [
      "COMMIT = True        # Modifiy this value\n",
      "# Generate Labels for Adhoc Environment\n",
      "print \"Building adhoc labels.\"\n",
      "labels = generateEnvNotes(studentList)\n",
      "\n",
      "labelDevices(deviceDetails,labels,confirmed=COMMIT)"
     ],
     "language": "python",
     "metadata": {},
     "outputs": []
    },
    {
     "cell_type": "markdown",
     "metadata": {},
     "source": [
      "### Delete Devices\n",
      "The subsequent code cell will **not** actually carry-out the requested task until you modifiy the **COMMIT** flag. This allows you to run a pretest to see which devices will be deleted."
     ]
    },
    {
     "cell_type": "code",
     "collapsed": false,
     "input": [
      "COMMIT = False        # Modifiy this value\n",
      "cancelDevices(deviceDetails,confirmed=COMMIT)"
     ],
     "language": "python",
     "metadata": {},
     "outputs": []
    }
   ],
   "metadata": {}
  }
 ]
}